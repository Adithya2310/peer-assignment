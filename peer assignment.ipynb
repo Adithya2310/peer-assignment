{
 "cells": [
  {
   "cell_type": "markdown",
   "id": "4c999ede-16f2-41ec-99c5-cabbc7a634a3",
   "metadata": {},
   "source": [
    "<h1>My Jupyter Notebook on IBM Watson Studio</h1>"
   ]
  },
  {
   "cell_type": "markdown",
   "id": "3d17dbd5-92d2-4d59-a087-13f42b1ae2b9",
   "metadata": {},
   "source": [
    "**Adithya**\n",
    "I am currently student in 3rd year of Btech.Trying out this cool course in coursera"
   ]
  },
  {
   "cell_type": "markdown",
   "id": "e55aca38-1aa1-42b8-9b0b-ca880c3eb52e",
   "metadata": {},
   "source": [
    "*Soo i am intrested in data science because Data is something which facinates mee. Using data and trying to get to those conclusions is very similar to how a human brain functions. Learning and diving deep in this course i got to know various things that data can doo and the use of data in finding out insights reguarding a business problem.*"
   ]
  },
  {
   "cell_type": "markdown",
   "id": "69cde686-57b7-43ab-aebf-a2ab4315ff16",
   "metadata": {},
   "source": [
    "Soo i am writing a simple code on how you can print the sum of two numbers"
   ]
  },
  {
   "cell_type": "code",
   "execution_count": 6,
   "id": "9fe7dff1-72ff-45b8-bb70-952fbea70d6c",
   "metadata": {},
   "outputs": [
    {
     "name": "stdout",
     "output_type": "stream",
     "text": [
      "the sum of 5 and 6 is 11\n"
     ]
    }
   ],
   "source": [
    "c=5+6\n",
    "print('the sum of 5 and 6 is',c)"
   ]
  },
  {
   "cell_type": "markdown",
   "id": "4d11343a-f0ef-4bfc-b10f-1041af8b7011",
   "metadata": {},
   "source": [
    "Find some cool music here <a href=\"https://www.youtube.com/channel/UC-9-kyTW8ZkZNDHQJ6FgpwQ\" target=\"_blank\">youtube </a>\n",
    "\n",
    "<blockquote>Pls look into some cool music above</blockquote>\n",
    "<strike>pls watch at your own risk</strike>\n",
    "My favourite musician is shawn mendes\n",
    "<img src=\"https://media.gettyimages.com/photos/episode-0933-pictured-singer-shawn-mendes-during-an-interview-on-27-picture-id1042106912\">"
   ]
  },
  {
   "cell_type": "code",
   "execution_count": null,
   "id": "c3444048-2d70-4944-a522-0f98e760fabd",
   "metadata": {},
   "outputs": [],
   "source": []
  }
 ],
 "metadata": {
  "kernelspec": {
   "display_name": "Python",
   "language": "python",
   "name": "conda-env-python-py"
  },
  "language_info": {
   "codemirror_mode": {
    "name": "ipython",
    "version": 3
   },
   "file_extension": ".py",
   "mimetype": "text/x-python",
   "name": "python",
   "nbconvert_exporter": "python",
   "pygments_lexer": "ipython3",
   "version": "3.7.12"
  }
 },
 "nbformat": 4,
 "nbformat_minor": 5
}
